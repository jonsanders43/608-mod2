{
 "cells": [
  {
   "cell_type": "code",
   "execution_count": 19,
   "metadata": {
    "colab": {
     "base_uri": "https://localhost:8080/"
    },
    "id": "43Edyyj4reqd",
    "outputId": "43c115ca-fe21-4da5-91f2-dde19eccefb3"
   },
   "outputs": [
    {
     "name": "stdin",
     "output_type": "stream",
     "text": [
      "Enter your first integer  1\n",
      "Enter your second integer  2\n"
     ]
    },
    {
     "name": "stdout",
     "output_type": "stream",
     "text": [
      "The sum of 1 and 2 is 3\n"
     ]
    }
   ],
   "source": [
    "#3.3 Selfcheck\n",
    "number1 = int(input('Enter your first integer '))\n",
    "\n",
    "number2 = int(input('Enter your second integer '))\n",
    "total = number1 + number2\n",
    "\n",
    "print('The sum of', number1, 'and', number2, 'is', total)"
   ]
  },
  {
   "cell_type": "code",
   "execution_count": 20,
   "metadata": {
    "colab": {
     "base_uri": "https://localhost:8080/"
    },
    "id": "mafmR4pmsSoX",
    "outputId": "17580131-1cf3-4cf0-d54b-389993923911"
   },
   "outputs": [
    {
     "name": "stdin",
     "output_type": "stream",
     "text": [
      "Enter your grade:  98\n"
     ]
    },
    {
     "name": "stdout",
     "output_type": "stream",
     "text": [
      "Congrats! You have passed! \n"
     ]
    }
   ],
   "source": [
    "#3.4 Control Statements\n",
    "\n",
    "#if statement\n",
    "grade = int(input('Enter your grade: '))\n",
    "if grade >= 75:\n",
    "  print('Congrats! You have passed! ')\n",
    "else:\n",
    "  print('Sorry, you failed. Try again! ')"
   ]
  },
  {
   "cell_type": "code",
   "execution_count": 21,
   "metadata": {
    "colab": {
     "base_uri": "https://localhost:8080/",
     "height": 53
    },
    "id": "plV5MsDNu49P",
    "outputId": "3cabbf29-58d1-4afd-e302-bf27ee33db0f"
   },
   "outputs": [
    {
     "name": "stdin",
     "output_type": "stream",
     "text": [
      "Enter your grade  56\n"
     ]
    },
    {
     "data": {
      "text/plain": [
       "'Failed '"
      ]
     },
     "execution_count": 21,
     "metadata": {},
     "output_type": "execute_result"
    }
   ],
   "source": [
    "#concise conditional expression\n",
    "\n",
    "grade = int(input('Enter your grade '))\n",
    "\n",
    "result = ('Passed ' if grade >= 65 else 'Failed ')\n",
    "result"
   ]
  },
  {
   "cell_type": "code",
   "execution_count": 22,
   "metadata": {
    "colab": {
     "base_uri": "https://localhost:8080/"
    },
    "id": "AzZi7kvoxfj3",
    "outputId": "283c3cab-35a2-4118-97e5-fab1b5af8624"
   },
   "outputs": [
    {
     "name": "stdout",
     "output_type": "stream",
     "text": [
      "Passed \n"
     ]
    }
   ],
   "source": [
    "#Multiple statements in a suite\n",
    "\n",
    "grade = 67\n",
    "\n",
    "if grade >= 60:\n",
    "  print('Passed ')\n",
    "else: \n",
    "  print('Failed ')\n",
    "  print('Try again Fucker')"
   ]
  },
  {
   "cell_type": "code",
   "execution_count": 23,
   "metadata": {
    "colab": {
     "base_uri": "https://localhost:8080/"
    },
    "id": "OTak_Jr9x-AX",
    "outputId": "86fe6522-8bf9-4210-bb13-af01a8a1f0ca"
   },
   "outputs": [
    {
     "name": "stdin",
     "output_type": "stream",
     "text": [
      "Enter your grade  89\n"
     ]
    },
    {
     "name": "stdout",
     "output_type": "stream",
     "text": [
      "B\n"
     ]
    }
   ],
   "source": [
    "#if elif else statements\n",
    "\n",
    "grade =  int(input('Enter your grade '))\n",
    "\n",
    "if grade >= 90:\n",
    "  print('A')\n",
    "elif grade >= 80:\n",
    "  print('B')\n",
    "elif grade >= 70:\n",
    "  print('C')\n",
    "elif grade >= 60:\n",
    "  print('D')\n",
    "else:\n",
    "  print(\"You're not very good at this are you?\")"
   ]
  },
  {
   "cell_type": "code",
   "execution_count": 24,
   "metadata": {
    "colab": {
     "base_uri": "https://localhost:8080/"
    },
    "id": "e_A_F-abyvUW",
    "outputId": "5ff58852-ffc1-4798-9d2e-7574b24c9695"
   },
   "outputs": [
    {
     "data": {
      "text/plain": [
       "96"
      ]
     },
     "execution_count": 24,
     "metadata": {},
     "output_type": "execute_result"
    }
   ],
   "source": [
    "#While statements - allows you to repeat one or more actions while a condition remains true. Often called a \"loop\"\n",
    "\n",
    "product = 3\n",
    "\n",
    "while product <= 50:\n",
    "  product = product * 2 #multiplies the product by 2 as long as the product is under 50. In this case its 3*2, 6*2, 12*2, 24*2, 48*2, and then it stops because it is no longer true. \n",
    "\n",
    "product\n",
    "\n"
   ]
  },
  {
   "cell_type": "code",
   "execution_count": 25,
   "metadata": {
    "colab": {
     "base_uri": "https://localhost:8080/"
    },
    "id": "2JjK-xN0z6gi",
    "outputId": "b644e27b-bdbc-43f7-9211-ed957e9f713e"
   },
   "outputs": [
    {
     "data": {
      "text/plain": [
       "2401"
      ]
     },
     "execution_count": 25,
     "metadata": {},
     "output_type": "execute_result"
    }
   ],
   "source": [
    "#3.7 Self check\n",
    "\n",
    "product = 7\n",
    "\n",
    "while product <= 1000:\n",
    "  product = product * 7\n",
    "product"
   ]
  },
  {
   "cell_type": "code",
   "execution_count": 26,
   "metadata": {
    "colab": {
     "base_uri": "https://localhost:8080/"
    },
    "id": "rKu27YDO0IVF",
    "outputId": "3b5d4f2d-6824-4817-aefa-c7c93d23bc70"
   },
   "outputs": [
    {
     "name": "stdout",
     "output_type": "stream",
     "text": [
      "P  r  o  g  r  a  m  m  i  n  g  102030\n"
     ]
    }
   ],
   "source": [
    "#3.8 For Statement Performs its action(s) for each item in a sequence of items. Ex: display \"Programming\" with characters separated by 2 spaces\n",
    "\n",
    "for character in 'Programming':\n",
    "  print(character, end='  ') #end is keyword argument\n",
    "\n",
    "print(10, 20, 30, sep='')\n",
    "\n"
   ]
  },
  {
   "cell_type": "code",
   "execution_count": 27,
   "metadata": {
    "colab": {
     "base_uri": "https://localhost:8080/"
    },
    "id": "VyXRaW2L110p",
    "outputId": "b146b1f8-e5fb-473b-ee2c-ed2f44830ed8"
   },
   "outputs": [
    {
     "data": {
      "text/plain": [
       "25"
      ]
     },
     "execution_count": 27,
     "metadata": {},
     "output_type": "execute_result"
    }
   ],
   "source": [
    "#3.8.1 Iterables, Lists, and Iterators \n",
    "#Iterable - an object from which the for the statement can one item at a time until no more remain. Ex: lists []\n",
    "#iterator - used by the for statement behind the scenes as a bookmark to always know where its at in the sequence\n",
    "total = 0\n",
    "for number in [2, -3, 0, 17, 9]:\n",
    "  total = total + number\n",
    "total\n"
   ]
  },
  {
   "cell_type": "code",
   "execution_count": 28,
   "metadata": {
    "colab": {
     "base_uri": "https://localhost:8080/"
    },
    "id": "CR8i34Gl3c16",
    "outputId": "4e053d81-2cef-49e7-a1da-83aa2aa47ae7"
   },
   "outputs": [
    {
     "name": "stdout",
     "output_type": "stream",
     "text": [
      "0 1 2 3 4 5 6 7 8 9 "
     ]
    }
   ],
   "source": [
    "#3.8.2 Built in range Function\n",
    "for counter in range(10): #range(10) is the function call. It creates an iterable object that represents a sequence of consecutive integers 0 thru 9.\n",
    "  print(counter, end=' ') #The for statement exits after it processes the last integer in the list. "
   ]
  },
  {
   "cell_type": "code",
   "execution_count": 29,
   "metadata": {
    "colab": {
     "base_uri": "https://localhost:8080/"
    },
    "id": "fwmKDJRw5BcW",
    "outputId": "6507cf3f-f1d5-4fa7-bd38-441d9f791ac7"
   },
   "outputs": [
    {
     "data": {
      "text/plain": [
       "500000500000"
      ]
     },
     "execution_count": 29,
     "metadata": {},
     "output_type": "execute_result"
    }
   ],
   "source": [
    "#3.8.2 Self check\n",
    "total = 0\n",
    "for number in range(1000001):\n",
    "  total = total + number\n",
    "total"
   ]
  },
  {
   "cell_type": "code",
   "execution_count": 30,
   "metadata": {
    "colab": {
     "base_uri": "https://localhost:8080/"
    },
    "id": "9CjfqXA05QMB",
    "outputId": "48384054-b5a1-4d54-f592-6da1ba1684bf"
   },
   "outputs": [
    {
     "data": {
      "text/plain": [
       "109"
      ]
     },
     "execution_count": 30,
     "metadata": {},
     "output_type": "execute_result"
    }
   ],
   "source": [
    "#3.9 Augumented Assignments: Abbreviates assignment expressions in which the same variable name appears on both sides of the = does. \n",
    "#ex total = total + number: can be augmented to total += number\n",
    "\n",
    "total = 0\n",
    "for number in [1, 3, 5, 9, 91]:\n",
    "  total += number #augmented assignment\n",
    "total"
   ]
  },
  {
   "cell_type": "code",
   "execution_count": 31,
   "metadata": {
    "colab": {
     "base_uri": "https://localhost:8080/"
    },
    "id": "NJSuMeUY5aoh",
    "outputId": "a6d311a2-9e5b-4985-f9a6-c68f353ed29b"
   },
   "outputs": [
    {
     "data": {
      "text/plain": [
       "144"
      ]
     },
     "execution_count": 31,
     "metadata": {},
     "output_type": "execute_result"
    }
   ],
   "source": [
    "#3.9 Self Check\n",
    "\n",
    "x = 12\n",
    "x **= 2\n",
    "x"
   ]
  },
  {
   "cell_type": "code",
   "execution_count": 32,
   "metadata": {
    "colab": {
     "base_uri": "https://localhost:8080/"
    },
    "id": "nrh219d57AvL",
    "outputId": "8af46373-3c0e-402a-c733-89db16f0a05c"
   },
   "outputs": [
    {
     "name": "stdout",
     "output_type": "stream",
     "text": [
      "Class average is 77.1\n"
     ]
    }
   ],
   "source": [
    "#3.10 Sequence Controlled Repetition\n",
    "#3.10.1 Requirements Statement- describes what a program is supposed to do, but not how to do it. 1st step in creating an alogrithm \n",
    "#Initialization phase\n",
    "\n",
    "total = 0\n",
    "grades_counter = 0\n",
    "grades = [98, 45, 78, 90, 56, 87, 73, 100, 67, 77]\n",
    "#Execution Phase\n",
    "\n",
    "for grade in grades:\n",
    "  total += grade #adds current grade to the running total\n",
    "  grades_counter += 1 #indicates 1 more grade was processed. \n",
    "\n",
    "#Termination phase\n",
    "average = (total / grades_counter) #takes total divided by grades_counted and sets it to average \n",
    "\n",
    "print(f'Class average is {average}') #formated string: specify where to insert values by using placeholders {}. \n",
    "                                     # may contain values, variables, or other expressions such as calculations or function calls."
   ]
  },
  {
   "cell_type": "code",
   "execution_count": 33,
   "metadata": {
    "id": "J_FKVXqO-GN6"
   },
   "outputs": [
    {
     "name": "stdin",
     "output_type": "stream",
     "text": [
      "Enter grade, -1 to end:  78\n",
      "Enter grade, -1 to end:   89\n",
      "Enter grade, -1 to end:   90\n",
      "Enter grade, -1 to end:   -1\n"
     ]
    },
    {
     "name": "stdout",
     "output_type": "stream",
     "text": [
      "Class average is  85.67\n"
     ]
    }
   ],
   "source": [
    "#3.11 Sentinel Controlled Repetition (Indefinite repetition)\n",
    "#sentinel value is used to indicate the end of data entry\n",
    "\n",
    "#TOP DOWN, STEPWISE REFINEMENT: \n",
    "#The top is a single statement stating what the programs overall function will be. \n",
    "\n",
    "#First refinement: Decompose the top into a sequence of smaller tasks i.e. divide and conquer\n",
    "\n",
    "#second refinement: we commit to specific variables that the program needs to maintain. This is where the bulk of the work is done. \n",
    "\n",
    "\n",
    "#intialization phase\n",
    "total = 0\n",
    "grade_counter = 0\n",
    "\n",
    "#processing phase\n",
    "grade = int(input('Enter grade, -1 to end: '))\n",
    "while grade != -1: #while the grade is not -1, the following statement runs.\n",
    "  total += grade #adds current grade to the running total \n",
    "  grade_counter += 1 #indicates one more grade has been processed.\n",
    "  grade = int(input('Enter grade, -1 to end:  ')) #repeats the input prompt\n",
    "\n",
    "\n",
    "#termination phase\n",
    "if grade_counter != 0: #if the grade counter is not = to 0, then the statement runs to figure the class average. \n",
    "  average = total / grade_counter\n",
    "  print(f'Class average is {average: .2f}')\n",
    "else:\n",
    "  print('No grades were entered. ') #if not grades were entered this prints.\n"
   ]
  },
  {
   "cell_type": "code",
   "execution_count": 34,
   "metadata": {
    "colab": {
     "base_uri": "https://localhost:8080/"
    },
    "id": "4t8-Q4tsDvWP",
    "outputId": "ac3c1971-f19d-40ed-b00f-0eb2a85339fc"
   },
   "outputs": [
    {
     "name": "stdin",
     "output_type": "stream",
     "text": [
      "Enter result (1=pass, 2=fail) 1\n",
      "Enter result (1=pass, 2=fail) 2\n",
      "Enter result (1=pass, 2=fail) 2\n",
      "Enter result (1=pass, 2=fail) 2\n",
      "Enter result (1=pass, 2=fail) 2\n",
      "Enter result (1=pass, 2=fail) 1\n",
      "Enter result (1=pass, 2=fail) 1\n",
      "Enter result (1=pass, 2=fail) 1\n",
      "Enter result (1=pass, 2=fail) 1\n",
      "Enter result (1=pass, 2=fail) 1\n"
     ]
    },
    {
     "name": "stdout",
     "output_type": "stream",
     "text": [
      "Passed: 6\n",
      "Failed 4\n"
     ]
    }
   ],
   "source": [
    "#3.12 Nested Control Statements\n",
    "\n",
    "#initialization phase, set variables\n",
    "passes = 0 \n",
    "failures = 0\n",
    "\n",
    "#process phase\n",
    "for student in range(10):\n",
    "  result = int(input('Enter result (1=pass, 2=fail)')) #gets 1 exam result\n",
    "\n",
    "  if result == 1:\n",
    "    passes += 1\n",
    "  else:\n",
    "    failures += 1\n",
    "\n",
    "#termination phase\n",
    "print('Passed:', passes)\n",
    "print('Failed', failures)\n",
    "\n",
    "if passes > 8:\n",
    "  print('Nice. You get a bonus')"
   ]
  },
  {
   "cell_type": "code",
   "execution_count": 35,
   "metadata": {
    "id": "f9GkAHOiF36-"
   },
   "outputs": [
    {
     "name": "stdout",
     "output_type": "stream",
     "text": [
      "1 3 5 7 9 11 13 15 17 "
     ]
    }
   ],
   "source": [
    "#3.13 Built-in Functio Range\n",
    "\n",
    "# Function range 2 argument version\n",
    "for number in range(1, 19, 2):#prints lower limit to the number before the upperlimit, spacing them with 1 space between them \n",
    "  print(number, end=' ')\n",
    "\n",
    "\n",
    "# Funciton range 3 arugment version produces intergers from the first arugment, up to but not including the second argument, by incrementing by the 3rd argument \n"
   ]
  },
  {
   "cell_type": "code",
   "execution_count": 36,
   "metadata": {
    "colab": {
     "base_uri": "https://localhost:8080/"
    },
    "id": "-xN1THRSHxgJ",
    "outputId": "deec7440-a166-4b07-fe9c-6f5436bf4604"
   },
   "outputs": [
    {
     "data": {
      "text/plain": [
       "2550"
      ]
     },
     "execution_count": 36,
     "metadata": {},
     "output_type": "execute_result"
    }
   ],
   "source": [
    "#3.13 self check \n",
    "\n",
    "total = 0 \n",
    "for number in range(2,101, 2): #sets the range from 2-100, incrementing by 2\n",
    "  total += number #adds the integer to the running total\n",
    "\n",
    "total"
   ]
  },
  {
   "cell_type": "code",
   "execution_count": 37,
   "metadata": {
    "colab": {
     "base_uri": "https://localhost:8080/"
    },
    "id": "-tu5jR0bJKc0",
    "outputId": "0f2f4ba0-450f-42de-c68f-4ac82c963034"
   },
   "outputs": [
    {
     "data": {
      "text/plain": [
       "Decimal('12.5')"
      ]
     },
     "execution_count": 37,
     "metadata": {},
     "output_type": "execute_result"
    }
   ],
   "source": [
    "#3.14 Using Decimal for monetary amounts\n",
    "from decimal import Decimal\n",
    "\n",
    "principal = Decimal('1000.00')\n",
    "principal\n",
    "\n",
    "rate = Decimal('0.05')\n",
    "rate\n",
    "\n",
    "x = Decimal('10.5')\n",
    "y = Decimal('2')\n",
    "\n",
    "x + y\n",
    "\n",
    "x//y\n",
    "\n",
    "x += y\n",
    "\n",
    "x\n"
   ]
  },
  {
   "cell_type": "code",
   "execution_count": 38,
   "metadata": {
    "colab": {
     "base_uri": "https://localhost:8080/"
    },
    "id": "LimQAMqRLdnC",
    "outputId": "2773015a-0d5d-4672-d8f4-2a64c00cb345"
   },
   "outputs": [
    {
     "name": "stdout",
     "output_type": "stream",
     "text": [
      " 1   1575.00\n",
      " 2   1653.75\n",
      " 3   1736.44\n",
      " 4   1823.26\n",
      " 5   1914.42\n",
      " 6   2010.14\n",
      " 7   2110.65\n",
      " 8   2216.18\n",
      " 9   2326.99\n",
      "10   2443.34\n"
     ]
    }
   ],
   "source": [
    "#3.14 compound interest script\n",
    "principal = Decimal('1500.00') #initial investment\n",
    "rate = Decimal('.05') #rate of return\n",
    "for year in range(1, 11): #term your investing\n",
    "  amount = principal * (1 + rate) ** year  # (1+r)**n is written as (1 + rate) ** year\n",
    "  print(f'{year:>2}{amount:>10.2f}')"
   ]
  },
  {
   "cell_type": "code",
   "execution_count": 39,
   "metadata": {},
   "outputs": [
    {
     "name": "stdout",
     "output_type": "stream",
     "text": [
      "Senior Female\n"
     ]
    }
   ],
   "source": [
    "#3.16 Boolean Operators and, or and not\n",
    "#And ensures two conditions are both true\n",
    "gender = 'female'\n",
    "\n",
    "age = 70\n",
    "if gender == 'female' and age >= 65:\n",
    "    print('Senior Female')"
   ]
  },
  {
   "cell_type": "code",
   "execution_count": 40,
   "metadata": {},
   "outputs": [
    {
     "name": "stdout",
     "output_type": "stream",
     "text": [
      "Student gets an A\n"
     ]
    }
   ],
   "source": [
    "#Boolean operator or tests whether one or both conditions are true. If either are true, the entire condition is true. \n",
    "\n",
    "semester_average = 83\n",
    "\n",
    "final_exam = 95\n",
    "\n",
    "if semester_average >= 90 or final_exam >= 90:\n",
    "    print('Student gets an A')"
   ]
  },
  {
   "cell_type": "code",
   "execution_count": 41,
   "metadata": {},
   "outputs": [
    {
     "name": "stdout",
     "output_type": "stream",
     "text": [
      "the next grade is  87\n"
     ]
    }
   ],
   "source": [
    "#Boolean Operator not reverses the meaning of a condition. True becomes False and vice versa. Unary operator (only one operande)\n",
    "#you place the not operator before a condition to chooses a path of execution if the original condition(without the operator) is False\n",
    "\n",
    "grade = 87\n",
    "if not grade == -1:\n",
    "    print('the next grade is ', grade)\n",
    "    "
   ]
  },
  {
   "cell_type": "code",
   "execution_count": 42,
   "metadata": {},
   "outputs": [
    {
     "name": "stdout",
     "output_type": "stream",
     "text": [
      "the next grade is  87\n"
     ]
    }
   ],
   "source": [
    "if grade != -1:\n",
    "    print('the next grade is ', grade)"
   ]
  },
  {
   "cell_type": "code",
   "execution_count": 43,
   "metadata": {},
   "outputs": [
    {
     "data": {
      "text/plain": [
       "79.4"
      ]
     },
     "execution_count": 43,
     "metadata": {},
     "output_type": "execute_result"
    }
   ],
   "source": [
    "#3.18\n",
    "\n",
    "grades = [85, 93, 45, 89, 85]\n",
    "\n",
    "sum(grades) / len(grades)\n"
   ]
  },
  {
   "cell_type": "code",
   "execution_count": 44,
   "metadata": {},
   "outputs": [],
   "source": [
    "import statistics"
   ]
  },
  {
   "cell_type": "code",
   "execution_count": 45,
   "metadata": {},
   "outputs": [
    {
     "data": {
      "text/plain": [
       "79.4"
      ]
     },
     "execution_count": 45,
     "metadata": {},
     "output_type": "execute_result"
    }
   ],
   "source": [
    "statistics.mean(grades) #mean is the average value in a set of values. "
   ]
  },
  {
   "cell_type": "code",
   "execution_count": 46,
   "metadata": {},
   "outputs": [
    {
     "data": {
      "text/plain": [
       "85"
      ]
     },
     "execution_count": 46,
     "metadata": {},
     "output_type": "execute_result"
    }
   ],
   "source": [
    "statistics.median(grades) #median is the middle value when all values are arranged in sorted order"
   ]
  },
  {
   "cell_type": "code",
   "execution_count": 47,
   "metadata": {},
   "outputs": [
    {
     "data": {
      "text/plain": [
       "85"
      ]
     },
     "execution_count": 47,
     "metadata": {},
     "output_type": "execute_result"
    }
   ],
   "source": [
    "statistics.mode(grades) #mode is the most frequently occuring value"
   ]
  },
  {
   "cell_type": "code",
   "execution_count": 48,
   "metadata": {},
   "outputs": [
    {
     "data": {
      "text/plain": [
       "[45, 85, 85, 89, 93]"
      ]
     },
     "execution_count": 48,
     "metadata": {},
     "output_type": "execute_result"
    }
   ],
   "source": [
    "sorted(grades)"
   ]
  },
  {
   "cell_type": "code",
   "execution_count": 49,
   "metadata": {},
   "outputs": [
    {
     "data": {
      "text/plain": [
       "79.16666666666667"
      ]
     },
     "execution_count": 49,
     "metadata": {},
     "output_type": "execute_result"
    }
   ],
   "source": [
    "#3.18 Question 4\n",
    "import statistics\n",
    "values = [47, 95, 88, 73, 88, 84]\n",
    "\n",
    "statistics.mean(values)"
   ]
  },
  {
   "cell_type": "code",
   "execution_count": 50,
   "metadata": {},
   "outputs": [
    {
     "data": {
      "text/plain": [
       "86.0"
      ]
     },
     "execution_count": 50,
     "metadata": {},
     "output_type": "execute_result"
    }
   ],
   "source": [
    "statistics.median(values)"
   ]
  },
  {
   "cell_type": "code",
   "execution_count": 51,
   "metadata": {},
   "outputs": [
    {
     "data": {
      "text/plain": [
       "88"
      ]
     },
     "execution_count": 51,
     "metadata": {},
     "output_type": "execute_result"
    }
   ],
   "source": [
    "statistics.mode(values)"
   ]
  },
  {
   "cell_type": "code",
   "execution_count": 68,
   "metadata": {},
   "outputs": [
    {
     "name": "stdout",
     "output_type": "stream",
     "text": [
      "I am Jon Sanders and thanks for coming to my TED Talk!\n"
     ]
    }
   ],
   "source": [
    "print('I am Jon Sanders and thanks for coming to my TED Talk!')\n"
   ]
  },
  {
   "cell_type": "code",
   "execution_count": 67,
   "metadata": {},
   "outputs": [
    {
     "data": {
      "text/plain": [
       "16"
      ]
     },
     "execution_count": 67,
     "metadata": {},
     "output_type": "execute_result"
    }
   ],
   "source": [
    "#Aaron Rodgers Passing stats\n",
    "\n",
    "totalAttempts = [28, 27, 33, 36, 39, 23, 35, 37, 37, 33, 45, 37, 31, 34, 38, 18]\n",
    "\n",
    "totalCompletions = [15, 22, 23, 20, 27, 17, 27, 22, 23, 23, 28, 29, 23, 24, 29, 14]\n",
    "\n",
    "len(totalAttempts)\n"
   ]
  },
  {
   "cell_type": "code",
   "execution_count": 61,
   "metadata": {},
   "outputs": [
    {
     "data": {
      "text/plain": [
       "531"
      ]
     },
     "execution_count": 61,
     "metadata": {},
     "output_type": "execute_result"
    }
   ],
   "source": [
    "sum(totalAttempts)"
   ]
  },
  {
   "cell_type": "code",
   "execution_count": 62,
   "metadata": {},
   "outputs": [
    {
     "data": {
      "text/plain": [
       "366"
      ]
     },
     "execution_count": 62,
     "metadata": {},
     "output_type": "execute_result"
    }
   ],
   "source": [
    "sum(totalCompletions)"
   ]
  },
  {
   "cell_type": "code",
   "execution_count": 63,
   "metadata": {},
   "outputs": [
    {
     "data": {
      "text/plain": [
       "33.1875"
      ]
     },
     "execution_count": 63,
     "metadata": {},
     "output_type": "execute_result"
    }
   ],
   "source": [
    "statistics.mean(totalAttempts)"
   ]
  },
  {
   "cell_type": "code",
   "execution_count": 64,
   "metadata": {},
   "outputs": [
    {
     "data": {
      "text/plain": [
       "34.5"
      ]
     },
     "execution_count": 64,
     "metadata": {},
     "output_type": "execute_result"
    }
   ],
   "source": [
    "statistics.median(totalAttempts)"
   ]
  },
  {
   "cell_type": "code",
   "execution_count": 65,
   "metadata": {},
   "outputs": [
    {
     "data": {
      "text/plain": [
       "37"
      ]
     },
     "execution_count": 65,
     "metadata": {},
     "output_type": "execute_result"
    }
   ],
   "source": [
    "statistics.mode(totalAttempts)"
   ]
  }
 ],
 "metadata": {
  "colab": {
   "collapsed_sections": [],
   "name": "Ch3.ipynb",
   "provenance": []
  },
  "kernelspec": {
   "display_name": "Python 3 (ipykernel)",
   "language": "python",
   "name": "python3"
  },
  "language_info": {
   "codemirror_mode": {
    "name": "ipython",
    "version": 3
   },
   "file_extension": ".py",
   "mimetype": "text/x-python",
   "name": "python",
   "nbconvert_exporter": "python",
   "pygments_lexer": "ipython3",
   "version": "3.9.12"
  }
 },
 "nbformat": 4,
 "nbformat_minor": 4
}
