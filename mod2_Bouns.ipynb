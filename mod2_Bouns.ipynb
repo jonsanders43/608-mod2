{
 "cells": [
  {
   "cell_type": "code",
   "execution_count": 36,
   "id": "d6d7c1f8-5bbd-4862-b38b-7ad4a5a59b70",
   "metadata": {},
   "outputs": [],
   "source": [
    "import pandas as pd "
   ]
  },
  {
   "cell_type": "code",
   "execution_count": 37,
   "id": "e5ad37e2-21af-49ea-bd0d-411356e4f1e9",
   "metadata": {},
   "outputs": [],
   "source": [
    "import statistics"
   ]
  },
  {
   "cell_type": "code",
   "execution_count": 99,
   "id": "abb16528-bfa1-414a-aedd-8b917b5a9bc1",
   "metadata": {},
   "outputs": [
    {
     "name": "stdout",
     "output_type": "stream",
     "text": [
      "[23.0, 33.0, 35.0, 32.0, 30.0, 29.0, 22.0, 48.0, 61.0, 34.0, 43.0, 36.0, 35.0, 39.0, 28.0, 44.0, 34.0, 36.0, 24.0, 45.0, 42.0, 56.0, 38.0, 43.0, 51.0, 41.0, 39.0, 30.0, 23.0, 31.0, 38.0, 39.0, 42.0, 50.0, 42.0, 26.0, 29.0, 4.0, 30.0, 42.0, 44.0, 40.0, 52.0, 46.0, 30.0, 43.0, 28.0, 30.0, 28.0, 50.0, 32.0, 42.0, 55.0, 5.0]\n",
      "[18.0, 25.0, 24.0, 22.0, 19.0, 16.0, 14.0, 25.0, 35.0, 16.0, 22.0, 24.0, 22.0, 22.0, 15.0, 28.0, 20.0, 20.0, 15.0, 23.0, 31.0, 39.0, 28.0, 26.0, 31.0, 26.0, 30.0, 20.0, 18.0, 19.0, 28.0, 27.0, 28.0, 33.0, 28.0, 18.0, 19.0, 2.0, 20.0, 30.0, 27.0, 22.0, 32.0, 25.0, 18.0, 24.0, 19.0, 21.0, 17.0, 31.0, 21.0, 25.0, 37.0, 3.0]\n"
     ]
    }
   ],
   "source": [
    "\n",
    "#Bonus \n",
    "export = pd.read_excel (r'C:\\Users\\sande\\OneDrive\\Documents\\ffb.xlsx')\n",
    "attempts = export.values.T[0].tolist()\n",
    "completions = export.values.T[2].tolist()\n",
    "print(attempts)\n",
    "print(completions)\n",
    "\n",
    "total_attempts = round(sum(attempts))\n",
    "total_completions = round(sum(completions))\n"
   ]
  },
  {
   "cell_type": "code",
   "execution_count": 93,
   "id": "d3d47139-7495-424d-b1db-ed9886450e4d",
   "metadata": {},
   "outputs": [
    {
     "name": "stdout",
     "output_type": "stream",
     "text": [
      "63.29\n"
     ]
    }
   ],
   "source": [
    "completion_percentage = round((sum(completions) / sum(attempts)) * 100, 2)\n",
    "print(completion_percentage)"
   ]
  },
  {
   "cell_type": "code",
   "execution_count": 100,
   "id": "f3b3d833-2e3d-477a-b42c-221cefa1afe2",
   "metadata": {},
   "outputs": [
    {
     "name": "stdout",
     "output_type": "stream",
     "text": [
      "Since 2015, Aaron Rodgers has thrown 1972 passes, and completed 1248 passes, for a completion rate of 63.29 percent \n"
     ]
    }
   ],
   "source": [
    "print(f'Since 2015, Aaron Rodgers has thrown {total_attempts} passes, and completed {total_completions} passes, for a completion rate of {completion_percentage} percent ')"
   ]
  },
  {
   "cell_type": "code",
   "execution_count": 101,
   "id": "d81bf0eb-b826-42e7-9003-06c294336a33",
   "metadata": {},
   "outputs": [
    {
     "data": {
      "text/plain": [
       "36.51851851851852"
      ]
     },
     "execution_count": 101,
     "metadata": {},
     "output_type": "execute_result"
    }
   ],
   "source": [
    "statistics.mean(attempts)"
   ]
  },
  {
   "cell_type": "code",
   "execution_count": 102,
   "id": "561d7dd5-8280-470e-8bde-936fe149574e",
   "metadata": {},
   "outputs": [
    {
     "data": {
      "text/plain": [
       "30.0"
      ]
     },
     "execution_count": 102,
     "metadata": {},
     "output_type": "execute_result"
    }
   ],
   "source": [
    "statistics.mode(attempts)"
   ]
  },
  {
   "cell_type": "code",
   "execution_count": 103,
   "id": "4e2b7c7e-8cc4-4807-af37-075bef267c83",
   "metadata": {},
   "outputs": [
    {
     "data": {
      "text/plain": [
       "54"
      ]
     },
     "execution_count": 103,
     "metadata": {},
     "output_type": "execute_result"
    }
   ],
   "source": [
    "len(attempts)"
   ]
  }
 ],
 "metadata": {
  "kernelspec": {
   "display_name": "Python 3 (ipykernel)",
   "language": "python",
   "name": "python3"
  },
  "language_info": {
   "codemirror_mode": {
    "name": "ipython",
    "version": 3
   },
   "file_extension": ".py",
   "mimetype": "text/x-python",
   "name": "python",
   "nbconvert_exporter": "python",
   "pygments_lexer": "ipython3",
   "version": "3.9.12"
  }
 },
 "nbformat": 4,
 "nbformat_minor": 5
}
